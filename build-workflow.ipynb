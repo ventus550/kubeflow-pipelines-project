{
 "cells": [
  {
   "cell_type": "code",
   "execution_count": 1,
   "metadata": {
    "id": "import_pipelines",
    "tags": []
   },
   "outputs": [],
   "source": [
    "from typing import NamedTuple\n",
    "from google.cloud import aiplatform\n",
    "\n",
    "import kfp\n",
    "from kfp import compiler, dsl\n",
    "from kfp.dsl import (\n",
    "    Artifact, Dataset, Input, InputPath,\n",
    "    Model, Output, OutputPath, component,\n",
    "    ParallelFor\n",
    ")\n",
    "\n",
    "from google_cloud_pipeline_components.v1.custom_job.utils import create_custom_training_job_op_from_component\n",
    "import components"
   ]
  },
  {
   "cell_type": "code",
   "execution_count": 2,
   "metadata": {
    "tags": []
   },
   "outputs": [],
   "source": [
    "BUCKET_URI = f\"gs://protocell\"\n",
    "PIPELINE_ROOT = f\"{BUCKET_URI}/pipeline_root\"\n",
    "LOCATION = \"europe-central2\"\n",
    "PROJECT = \"protocell-404013\"\n",
    "DATA = f\"{BUCKET_URI}/data\""
   ]
  },
  {
   "cell_type": "code",
   "execution_count": 3,
   "metadata": {
    "tags": []
   },
   "outputs": [],
   "source": [
    "# https://cloud.google.com/python/docs/reference/aiplatform/latest/google.cloud.aiplatform.Tensorboard\n",
    "aiplatform.init(location=LOCATION, project=PROJECT, staging_bucket=BUCKET_URI)\n",
    "tensorboard = aiplatform.Tensorboard(location=LOCATION, project=PROJECT, tensorboard_name = \"2373397003624251392\")"
   ]
  },
  {
   "cell_type": "code",
   "execution_count": 4,
   "metadata": {},
   "outputs": [],
   "source": [
    "@dsl.pipeline(\n",
    "    pipeline_root=PIPELINE_ROOT,\n",
    "    name=\"classification\",\n",
    ")\n",
    "def pipeline(dataset: str = f\"{DATA}/classification.npz\", epochs: int = 10, foo: Input[Dataset] = None):\n",
    "    \n",
    "    importer = dsl.importer(\n",
    "        artifact_uri=dataset,\n",
    "        artifact_class=Dataset,\n",
    "        reimport=False,\n",
    "    )\n",
    "    \n",
    "    data = components.split_data(ratio=0.1, dataset=importer.output)\n",
    "    \n",
    "    train_classifier_op = create_custom_training_job_op_from_component(\n",
    "        component_spec = components.train_classifier,\n",
    "        display_name = \"train_classfier_display_name\",\n",
    "        tensorboard = tensorboard.resource_name,\n",
    "        base_output_directory = PIPELINE_ROOT,\n",
    "        service_account = \"429426973958-compute@developer.gserviceaccount.com\"\n",
    "    )\n",
    "    \n",
    "    train_classifier = train_classifier_op(epochs=epochs, dataset=data.outputs[\"train\"], location = LOCATION)\n",
    "    \n",
    "\n",
    "    components.visualize(model=train_classifier.outputs[\"classifier\"])\n",
    "    "
   ]
  },
  {
   "cell_type": "markdown",
   "metadata": {
    "id": "run_pipeline:lightweight"
   },
   "source": [
    "## Build the pipeline"
   ]
  },
  {
   "cell_type": "code",
   "execution_count": 5,
   "metadata": {
    "id": "run_pipeline:lightweight",
    "tags": []
   },
   "outputs": [],
   "source": [
    "compiler.Compiler().compile(\n",
    "    pipeline_func=pipeline,\n",
    "    package_path=\"classifier.yaml\"\n",
    ")"
   ]
  },
  {
   "cell_type": "code",
   "execution_count": 6,
   "metadata": {},
   "outputs": [],
   "source": [
    "from kfp.registry import RegistryClient\n",
    "repo = f\"https://{LOCATION}-kfp.pkg.dev/{PROJECT}/kubeflows\"\n",
    "client = RegistryClient(host=repo)"
   ]
  },
  {
   "cell_type": "code",
   "execution_count": 7,
   "metadata": {
    "tags": []
   },
   "outputs": [],
   "source": [
    "templateName, versionName = client.upload_pipeline(\n",
    "  file_name=\"classifier.yaml\",\n",
    "  tags=[\"latest\"],\n",
    "  extra_headers={\"description\":\"testing\"}\n",
    ")"
   ]
  },
  {
   "cell_type": "code",
   "execution_count": 8,
   "metadata": {
    "tags": []
   },
   "outputs": [
    {
     "name": "stdout",
     "output_type": "stream",
     "text": [
      "Creating PipelineJob\n",
      "PipelineJob created. Resource name: projects/429426973958/locations/europe-central2/pipelineJobs/classification-20231231013255\n",
      "To use this PipelineJob in another session:\n",
      "pipeline_job = aiplatform.PipelineJob.get('projects/429426973958/locations/europe-central2/pipelineJobs/classification-20231231013255')\n",
      "View Pipeline Job:\n",
      "https://console.cloud.google.com/vertex-ai/locations/europe-central2/pipelines/runs/classification-20231231013255?project=429426973958\n",
      "PipelineJob projects/429426973958/locations/europe-central2/pipelineJobs/classification-20231231013255 current state:\n",
      "PipelineState.PIPELINE_STATE_RUNNING\n",
      "PipelineJob projects/429426973958/locations/europe-central2/pipelineJobs/classification-20231231013255 current state:\n",
      "PipelineState.PIPELINE_STATE_RUNNING\n",
      "PipelineJob projects/429426973958/locations/europe-central2/pipelineJobs/classification-20231231013255 current state:\n",
      "PipelineState.PIPELINE_STATE_RUNNING\n",
      "PipelineJob projects/429426973958/locations/europe-central2/pipelineJobs/classification-20231231013255 current state:\n",
      "PipelineState.PIPELINE_STATE_RUNNING\n",
      "PipelineJob projects/429426973958/locations/europe-central2/pipelineJobs/classification-20231231013255 current state:\n",
      "PipelineState.PIPELINE_STATE_RUNNING\n",
      "PipelineJob projects/429426973958/locations/europe-central2/pipelineJobs/classification-20231231013255 current state:\n",
      "PipelineState.PIPELINE_STATE_RUNNING\n",
      "PipelineJob run completed. Resource name: projects/429426973958/locations/europe-central2/pipelineJobs/classification-20231231013255\n"
     ]
    }
   ],
   "source": [
    "aiplatform.PipelineJob(\n",
    "    display_name = \"PipelineJob_display_name\",\n",
    "    template_path = \"classifier.yaml\",\n",
    "    pipeline_root = PIPELINE_ROOT,\n",
    "    enable_caching=False,\n",
    ").run()"
   ]
  },
  {
   "cell_type": "code",
   "execution_count": null,
   "metadata": {},
   "outputs": [],
   "source": []
  }
 ],
 "metadata": {
  "colab": {
   "name": "lightweight_functions_component_io_kfp.ipynb",
   "toc_visible": true
  },
  "environment": {
   "kernel": "conda-root-py",
   "name": "workbench-notebooks.m113",
   "type": "gcloud",
   "uri": "gcr.io/deeplearning-platform-release/workbench-notebooks:m113"
  },
  "kernelspec": {
   "display_name": "Python 3 (ipykernel) (Local)",
   "language": "python",
   "name": "conda-root-py"
  },
  "language_info": {
   "codemirror_mode": {
    "name": "ipython",
    "version": 3
   },
   "file_extension": ".py",
   "mimetype": "text/x-python",
   "name": "python",
   "nbconvert_exporter": "python",
   "pygments_lexer": "ipython3",
   "version": "3.10.13"
  }
 },
 "nbformat": 4,
 "nbformat_minor": 4
}
