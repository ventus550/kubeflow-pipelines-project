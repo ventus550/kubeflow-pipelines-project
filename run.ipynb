{
 "cells": [
  {
   "cell_type": "code",
   "execution_count": 19,
   "metadata": {
    "tags": []
   },
   "outputs": [],
   "source": [
    "import pipeline\n",
    "from pipeline import PIPELINE_TEMPLATE_NAME, PIPELINE_ROOT"
   ]
  },
  {
   "cell_type": "code",
   "execution_count": 20,
   "metadata": {
    "tags": []
   },
   "outputs": [
    {
     "name": "stdout",
     "output_type": "stream",
     "text": [
      "Creating PipelineJob\n",
      "PipelineJob created. Resource name: projects/429426973958/locations/europe-central2/pipelineJobs/classification-20231231203337\n",
      "To use this PipelineJob in another session:\n",
      "pipeline_job = aiplatform.PipelineJob.get('projects/429426973958/locations/europe-central2/pipelineJobs/classification-20231231203337')\n",
      "View Pipeline Job:\n",
      "https://console.cloud.google.com/vertex-ai/locations/europe-central2/pipelines/runs/classification-20231231203337?project=429426973958\n",
      "PipelineJob projects/429426973958/locations/europe-central2/pipelineJobs/classification-20231231203337 current state:\n",
      "PipelineState.PIPELINE_STATE_RUNNING\n",
      "PipelineJob run completed. Resource name: projects/429426973958/locations/europe-central2/pipelineJobs/classification-20231231203337\n"
     ]
    }
   ],
   "source": [
    "aiplatform.PipelineJob(\n",
    "    display_name = \"PipelineJob_display_name\",\n",
    "    template_path = PIPELINE_TEMPLATE_NAME,\n",
    "    pipeline_root = PIPELINE_ROOT,\n",
    "    enable_caching = True,\n",
    ").run()"
   ]
  },
  {
   "cell_type": "code",
   "execution_count": null,
   "metadata": {},
   "outputs": [],
   "source": []
  }
 ],
 "metadata": {
  "colab": {
   "name": "lightweight_functions_component_io_kfp.ipynb",
   "toc_visible": true
  },
  "environment": {
   "kernel": "conda-root-py",
   "name": "workbench-notebooks.m113",
   "type": "gcloud",
   "uri": "gcr.io/deeplearning-platform-release/workbench-notebooks:m113"
  },
  "kernelspec": {
   "display_name": "Python 3 (ipykernel) (Local)",
   "language": "python",
   "name": "conda-root-py"
  },
  "language_info": {
   "codemirror_mode": {
    "name": "ipython",
    "version": 3
   },
   "file_extension": ".py",
   "mimetype": "text/x-python",
   "name": "python",
   "nbconvert_exporter": "python",
   "pygments_lexer": "ipython3",
   "version": "3.10.13"
  }
 },
 "nbformat": 4,
 "nbformat_minor": 4
}
